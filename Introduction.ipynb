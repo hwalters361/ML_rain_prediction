{
 "cells": [
  {
   "cell_type": "code",
   "execution_count": 81,
   "metadata": {},
   "outputs": [],
   "source": [
    "import fiona\n",
    "import matplotlib.pyplot as plt\n",
    "import numpy as np\n",
    "import os\n",
    "import pandas as pd\n",
    "import pickle\n",
    "from time import time\n",
    "from tqdm import tqdm\n",
    "import xarray as xr\n",
    "import torch\n",
    "import torch.nn as nn\n",
    "from torch import optim\n",
    "\n",
    "from sklearn.ensemble import RandomForestClassifier\n",
    "from sklearn.model_selection import train_test_split\n",
    "from sklearn.metrics import mean_squared_error as mse\n",
    "from sklearn.metrics import accuracy_score\n",
    "from sklearn.model_selection import GridSearchCV\n",
    "from sklearn.tree import plot_tree\n",
    "\n",
    "seed = 1234\n",
    "np.random.seed(seed)"
   ]
  },
  {
   "cell_type": "markdown",
   "metadata": {},
   "source": [
    "## 1. Read Xarray Files\n"
   ]
  },
  {
   "cell_type": "code",
   "execution_count": 82,
   "metadata": {},
   "outputs": [],
   "source": [
    "def get_filenames(directory):\n",
    "    filenames = sorted(os.listdir(directory))\n",
    "    return [f for f in filenames if f.endswith(\".nc\")]\n",
    "\n",
    "\n",
    "def get_path(directory, filename):\n",
    "    return os.path.join(directory, filename)\n",
    "\n",
    "\n",
    "def get_basename(path):\n",
    "    return os.path.basename(path)\n",
    "\n",
    "\n",
    "def get_month_year(file_name, dtype=\"ppt\"):\n",
    "    \"\"\"Get month and year from file name\"\"\"\n",
    "    if dtype == \"ppt\":\n",
    "        time = pd.Timestamp(\"-\".join(file_name.split(\".\")[0].split(\"_\")[1:]))\n",
    "        month, year = time.month, time.year\n",
    "    elif dtype == \"sst\":\n",
    "        year, month = file_name.split(\".\")[-2][-6:-2], file_name.split(\".\")[-2][-2:]\n",
    "        month, year = int(month), int(year)\n",
    "    else:\n",
    "        print(f\"dtype {dtype} not implemented. Use ppt or sst.\")\n",
    "        month, year = None, None\n",
    "    return month, year\n",
    "\n",
    "\n",
    "def read_xr(path, dtype=\"ppt\"):\n",
    "    \"\"\"Read xarray file\"\"\"\n",
    "    file_data = xr.load_dataset(path, engine=\"netcdf4\")\n",
    "    file_name = get_basename(path)\n",
    "    month, year = get_month_year(file_name, dtype)\n",
    "    xr_data = [file_name, year, month]\n",
    "\n",
    "    if dtype == \"ppt\":\n",
    "        file_data = file_data.rename_vars(\n",
    "            {list(file_data.keys())[1]: \"ppt\", \"longitude\": \"lon\", \"latitude\": \"lat\"}\n",
    "        )\n",
    "\n",
    "        # Coarsen data to reduce resolution\n",
    "        file_data = file_data.coarsen(latitude=4, longitude=4, boundary=\"trim\").mean()\n",
    "        #         file_data = file_data.sel(longitude=slice(-300, -100))\n",
    "\n",
    "        ##Slice for west coast\n",
    "        file_data = file_data.sel(longitude=slice(0, 150))\n",
    "\n",
    "        xr_data.append(file_data.ppt.values)\n",
    "        columns = list(\"FYMD\")\n",
    "        columns[-1] = \"ppt\"\n",
    "\n",
    "    elif dtype == \"sst\":\n",
    "        # Coarsen data to reduce resolution\n",
    "        #         file_data = file_data.coarsen(lat = 4, lon = 4, boundary = \"trim\").mean()\n",
    "\n",
    "        ##Slice for west coast\n",
    "        #         file_data = file_data.sel(lon=slice(100, 400))\n",
    "\n",
    "        xr_data.extend([file_data.sst.values, file_data.ssta.values])\n",
    "        columns = list(\"FYMDA\")\n",
    "        columns[-2], columns[-1] = \"sst\", \"ssta\"\n",
    "\n",
    "    else:\n",
    "        print(f\"dtype {dtype} not implemented. Use ppt or sst.\")\n",
    "\n",
    "    longitude, latitude = file_data.lon.values, file_data.lat.values\n",
    "    return xr_data, longitude, latitude, columns\n",
    "\n",
    "\n",
    "def load_data(directory, dtype=\"ppt\"):\n",
    "    \"\"\"Load directory files in a pandas dataframe\"\"\"\n",
    "    filenames = get_filenames(directory)\n",
    "    data_info_list = []\n",
    "    for i, file_name in tqdm(enumerate(filenames)):\n",
    "        path = get_path(directory, file_name)\n",
    "        xr_data, longitude, latitude, columns = read_xr(path, dtype)\n",
    "        data_info_list.append(xr_data)\n",
    "    df = pd.DataFrame([p for p in data_info_list], columns=columns)\n",
    "    return df, latitude, longitude"
   ]
  },
  {
   "cell_type": "markdown",
   "metadata": {},
   "source": [
    "#### `Change ppt_directory and sst_directory based on your directories`\n"
   ]
  },
  {
   "cell_type": "code",
   "execution_count": 83,
   "metadata": {},
   "outputs": [],
   "source": [
    "ppt_directory = \"data/ppt-nc-1895-2020\"\n",
    "sst_directory = \"data/ERSST\""
   ]
  },
  {
   "cell_type": "code",
   "execution_count": 84,
   "metadata": {},
   "outputs": [
    {
     "name": "stderr",
     "output_type": "stream",
     "text": [
      "759it [00:08, 87.01it/s]\n"
     ]
    }
   ],
   "source": [
    "### Load ppt data\n",
    "ppt_df, lat, lon = load_data(ppt_directory, dtype=\"ppt\")"
   ]
  },
  {
   "cell_type": "markdown",
   "metadata": {},
   "source": [
    "### PPT Levels in different U.S. States\n"
   ]
  },
  {
   "cell_type": "code",
   "execution_count": 85,
   "metadata": {},
   "outputs": [],
   "source": [
    "def show_states(west_coast=True, state_file=\"States/cb_2018_us_state_20m.shp\"):\n",
    "    shape = fiona.open(state_file)\n",
    "    for s in shape:\n",
    "        pts = s[\"geometry\"][\"coordinates\"]\n",
    "        for p in pts:\n",
    "            state = np.array(p).squeeze()\n",
    "            if state[:, 1].min() < 50 and state[:, 1].min() > 22:\n",
    "                if not west_coast:\n",
    "                    plt.plot(state[:, 0], state[:, 1], color=\"black\")\n",
    "                elif np.max(state[:, 0]) < -100:  # plot only west coast\n",
    "                    plt.plot(state[:, 0], state[:, 1], color=\"black\")"
   ]
  },
  {
   "cell_type": "code",
   "execution_count": 86,
   "metadata": {},
   "outputs": [
    {
     "data": {
      "image/png": "[encoded data removed]",
      "text/plain": [
       "<Figure size 1000x800 with 1 Axes>"
      ]
     },
     "metadata": {},
     "output_type": "display_data"
    }
   ],
   "source": [
    "avg_ppt = ppt_df[\"ppt\"].mean()\n",
    "\n",
    "plt.figure(figsize=(10, 8))\n",
    "xx, yy = np.meshgrid(lon, lat)\n",
    "plt.contourf(xx, yy, avg_ppt, cmap=\"GnBu\")\n",
    "show_states()\n",
    "plt.axis(\"off\")\n",
    "plt.title(\"AVG PPT\")\n",
    "plt.show()\n",
    "plt.close()"
   ]
  },
  {
   "cell_type": "code",
   "execution_count": 87,
   "metadata": {},
   "outputs": [
    {
     "name": "stderr",
     "output_type": "stream",
     "text": [
      "1644it [00:05, 300.30it/s]\n"
     ]
    },
    {
     "data": {
      "text/html": [
       "<div>\n",
       "<style scoped>\n",
       "    .dataframe tbody tr th:only-of-type {\n",
       "        vertical-align: middle;\n",
       "    }\n",
       "\n",
       "    .dataframe tbody tr th {\n",
       "        vertical-align: top;\n",
       "    }\n",
       "\n",
       "    .dataframe thead th {\n",
       "        text-align: right;\n",
       "    }\n",
       "</style>\n",
       "<table border=\"1\" class=\"dataframe\">\n",
       "  <thead>\n",
       "    <tr style=\"text-align: right;\">\n",
       "      <th></th>\n",
       "      <th>F</th>\n",
       "      <th>Y</th>\n",
       "      <th>M</th>\n",
       "      <th>sst</th>\n",
       "      <th>ssta</th>\n",
       "    </tr>\n",
       "  </thead>\n",
       "  <tbody>\n",
       "    <tr>\n",
       "      <th>0</th>\n",
       "      <td>ersst.v5.188001.nc</td>\n",
       "      <td>1880</td>\n",
       "      <td>1</td>\n",
       "      <td>[[[[nan nan nan nan nan nan nan nan nan nan na...</td>\n",
       "      <td>[[[[nan nan nan nan nan nan nan nan nan nan na...</td>\n",
       "    </tr>\n",
       "    <tr>\n",
       "      <th>1</th>\n",
       "      <td>ersst.v5.188002.nc</td>\n",
       "      <td>1880</td>\n",
       "      <td>2</td>\n",
       "      <td>[[[[nan nan nan nan nan nan nan nan nan nan na...</td>\n",
       "      <td>[[[[nan nan nan nan nan nan nan nan nan nan na...</td>\n",
       "    </tr>\n",
       "    <tr>\n",
       "      <th>2</th>\n",
       "      <td>ersst.v5.188003.nc</td>\n",
       "      <td>1880</td>\n",
       "      <td>3</td>\n",
       "      <td>[[[[nan nan nan nan nan nan nan nan nan nan na...</td>\n",
       "      <td>[[[[nan nan nan nan nan nan nan nan nan nan na...</td>\n",
       "    </tr>\n",
       "    <tr>\n",
       "      <th>3</th>\n",
       "      <td>ersst.v5.188004.nc</td>\n",
       "      <td>1880</td>\n",
       "      <td>4</td>\n",
       "      <td>[[[[nan nan nan nan nan nan nan nan nan nan na...</td>\n",
       "      <td>[[[[nan nan nan nan nan nan nan nan nan nan na...</td>\n",
       "    </tr>\n",
       "    <tr>\n",
       "      <th>4</th>\n",
       "      <td>ersst.v5.188005.nc</td>\n",
       "      <td>1880</td>\n",
       "      <td>5</td>\n",
       "      <td>[[[[nan nan nan nan nan nan nan nan nan nan na...</td>\n",
       "      <td>[[[[nan nan nan nan nan nan nan nan nan nan na...</td>\n",
       "    </tr>\n",
       "    <tr>\n",
       "      <th>...</th>\n",
       "      <td>...</td>\n",
       "      <td>...</td>\n",
       "      <td>...</td>\n",
       "      <td>...</td>\n",
       "      <td>...</td>\n",
       "    </tr>\n",
       "    <tr>\n",
       "      <th>1639</th>\n",
       "      <td>ersst.v5.201608.nc</td>\n",
       "      <td>2016</td>\n",
       "      <td>8</td>\n",
       "      <td>[[[[nan nan nan nan nan nan nan nan nan nan na...</td>\n",
       "      <td>[[[[nan nan nan nan nan nan nan nan nan nan na...</td>\n",
       "    </tr>\n",
       "    <tr>\n",
       "      <th>1640</th>\n",
       "      <td>ersst.v5.201609.nc</td>\n",
       "      <td>2016</td>\n",
       "      <td>9</td>\n",
       "      <td>[[[[nan nan nan nan nan nan nan nan nan nan na...</td>\n",
       "      <td>[[[[nan nan nan nan nan nan nan nan nan nan na...</td>\n",
       "    </tr>\n",
       "    <tr>\n",
       "      <th>1641</th>\n",
       "      <td>ersst.v5.201610.nc</td>\n",
       "      <td>2016</td>\n",
       "      <td>10</td>\n",
       "      <td>[[[[nan nan nan nan nan nan nan nan nan nan na...</td>\n",
       "      <td>[[[[nan nan nan nan nan nan nan nan nan nan na...</td>\n",
       "    </tr>\n",
       "    <tr>\n",
       "      <th>1642</th>\n",
       "      <td>ersst.v5.201611.nc</td>\n",
       "      <td>2016</td>\n",
       "      <td>11</td>\n",
       "      <td>[[[[nan nan nan nan nan nan nan nan nan nan na...</td>\n",
       "      <td>[[[[nan nan nan nan nan nan nan nan nan nan na...</td>\n",
       "    </tr>\n",
       "    <tr>\n",
       "      <th>1643</th>\n",
       "      <td>ersst.v5.201612.nc</td>\n",
       "      <td>2016</td>\n",
       "      <td>12</td>\n",
       "      <td>[[[[nan nan nan nan nan nan nan nan nan nan na...</td>\n",
       "      <td>[[[[nan nan nan nan nan nan nan nan nan nan na...</td>\n",
       "    </tr>\n",
       "  </tbody>\n",
       "</table>\n",
       "<p>1644 rows × 5 columns</p>\n",
       "</div>"
      ],
      "text/plain": [
       "                       F     Y   M  \\\n",
       "0     ersst.v5.188001.nc  1880   1   \n",
       "1     ersst.v5.188002.nc  1880   2   \n",
       "2     ersst.v5.188003.nc  1880   3   \n",
       "3     ersst.v5.188004.nc  1880   4   \n",
       "4     ersst.v5.188005.nc  1880   5   \n",
       "...                  ...   ...  ..   \n",
       "1639  ersst.v5.201608.nc  2016   8   \n",
       "1640  ersst.v5.201609.nc  2016   9   \n",
       "1641  ersst.v5.201610.nc  2016  10   \n",
       "1642  ersst.v5.201611.nc  2016  11   \n",
       "1643  ersst.v5.201612.nc  2016  12   \n",
       "\n",
       "                                                    sst  \\\n",
       "0     [[[[nan nan nan nan nan nan nan nan nan nan na...   \n",
       "1     [[[[nan nan nan nan nan nan nan nan nan nan na...   \n",
       "2     [[[[nan nan nan nan nan nan nan nan nan nan na...   \n",
       "3     [[[[nan nan nan nan nan nan nan nan nan nan na...   \n",
       "4     [[[[nan nan nan nan nan nan nan nan nan nan na...   \n",
       "...                                                 ...   \n",
       "1639  [[[[nan nan nan nan nan nan nan nan nan nan na...   \n",
       "1640  [[[[nan nan nan nan nan nan nan nan nan nan na...   \n",
       "1641  [[[[nan nan nan nan nan nan nan nan nan nan na...   \n",
       "1642  [[[[nan nan nan nan nan nan nan nan nan nan na...   \n",
       "1643  [[[[nan nan nan nan nan nan nan nan nan nan na...   \n",
       "\n",
       "                                                   ssta  \n",
       "0     [[[[nan nan nan nan nan nan nan nan nan nan na...  \n",
       "1     [[[[nan nan nan nan nan nan nan nan nan nan na...  \n",
       "2     [[[[nan nan nan nan nan nan nan nan nan nan na...  \n",
       "3     [[[[nan nan nan nan nan nan nan nan nan nan na...  \n",
       "4     [[[[nan nan nan nan nan nan nan nan nan nan na...  \n",
       "...                                                 ...  \n",
       "1639  [[[[nan nan nan nan nan nan nan nan nan nan na...  \n",
       "1640  [[[[nan nan nan nan nan nan nan nan nan nan na...  \n",
       "1641  [[[[nan nan nan nan nan nan nan nan nan nan na...  \n",
       "1642  [[[[nan nan nan nan nan nan nan nan nan nan na...  \n",
       "1643  [[[[nan nan nan nan nan nan nan nan nan nan na...  \n",
       "\n",
       "[1644 rows x 5 columns]"
      ]
     },
     "execution_count": 87,
     "metadata": {},
     "output_type": "execute_result"
    }
   ],
   "source": [
    "### Load sst data\n",
    "sst_df, _, _ = load_data(sst_directory, dtype=\"sst\")\n",
    "sst_df"
   ]
  },
  {
   "cell_type": "markdown",
   "metadata": {},
   "source": [
    "### SST Levels\n"
   ]
  },
  {
   "cell_type": "code",
   "execution_count": 88,
   "metadata": {},
   "outputs": [
    {
     "data": {
      "image/png": "[encoded data removed]",
      "text/plain": [
       "<Figure size 1400x800 with 2 Axes>"
      ]
     },
     "metadata": {},
     "output_type": "display_data"
    },
    {
     "data": {
      "text/plain": [
       "(1644,)"
      ]
     },
     "execution_count": 88,
     "metadata": {},
     "output_type": "execute_result"
    }
   ],
   "source": [
    "plt.figure(figsize=(14, 8))\n",
    "sst_example = sst_df[\"sst\"].iloc[0]\n",
    "plt.imshow(np.flipud(sst_example.reshape(sst_example.shape[-2], sst_example.shape[-1])))\n",
    "plt.colorbar()\n",
    "plt.show()\n",
    "sst_df[\"sst\"].shape"
   ]
  },
  {
   "cell_type": "code",
   "execution_count": 89,
   "metadata": {},
   "outputs": [
    {
     "data": {
      "text/plain": [
       "((1, 1, 89, 180), (155, 150))"
      ]
     },
     "execution_count": 89,
     "metadata": {},
     "output_type": "execute_result"
    }
   ],
   "source": [
    "## Check shapes of ppt and sst\n",
    "sst_df[\"sst\"].iloc[0].shape, ppt_df[\"ppt\"].iloc[0].shape"
   ]
  },
  {
   "cell_type": "code",
   "execution_count": 90,
   "metadata": {},
   "outputs": [],
   "source": [
    "# get rainfall month and year\n",
    "rain_row = ppt_df.iloc[0]\n",
    "m, y = rain_row[\"M\"], rain_row[\"Y\"]\n",
    "\n",
    "# get sst month and year\n",
    "sst_row = sst_df[(sst_df[\"M\"] == m) & (sst_df[\"Y\"] == y)]  # bitmask filters for month and year\n",
    "index_position = sst_row.index[0]  # index returns Index object, so we need to get the first element\n",
    "\n",
    "# if index_position < 24:\n",
    "#     # do something, though this should never happen cuz sst starts far earlier\n",
    "\n",
    "prev24 = sst_df.iloc[index_position - 24 : index_position]"
   ]
  },
  {
   "cell_type": "code",
   "execution_count": 91,
   "metadata": {},
   "outputs": [
    {
     "name": "stdout",
     "output_type": "stream",
     "text": [
      "   month  year data\n",
      "1      5  2021    B\n"
     ]
    }
   ],
   "source": [
    "import pandas as pd\n",
    "\n",
    "# Sample DataFrame\n",
    "data = {\n",
    "    \"month\": [1, 5, 7, 5, 12],\n",
    "    \"year\": [2020, 2021, 2021, 2022, 2020],\n",
    "    \"data\": [\"A\", \"B\", \"C\", \"D\", \"E\"],  # Additional data column for illustration\n",
    "}\n",
    "df = pd.DataFrame(data)\n",
    "\n",
    "# Your target month and year\n",
    "target_month = 5\n",
    "target_year = 2021\n",
    "\n",
    "# Create a boolean mask to filter the DataFrame\n",
    "mask = (df[\"month\"] == target_month) & (df[\"year\"] == target_year)\n",
    "\n",
    "# Apply the mask to the DataFrame\n",
    "filtered_df = df[mask]\n",
    "\n",
    "# Display the filtered DataFrame\n",
    "print(filtered_df)"
   ]
  },
  {
   "cell_type": "markdown",
   "metadata": {},
   "source": [
    "## 2. Combine SST and PPT\n"
   ]
  },
  {
   "cell_type": "code",
   "execution_count": 92,
   "metadata": {},
   "outputs": [],
   "source": [
    "df = sst_df.merge(ppt_df, on=[\"Y\", \"M\"], suffixes=(\"_sst\", \"_ppt\"), how=\"inner\")"
   ]
  },
  {
   "cell_type": "markdown",
   "metadata": {},
   "source": [
    "## 3. Add Temporal Features\n"
   ]
  },
  {
   "cell_type": "code",
   "execution_count": 93,
   "metadata": {},
   "outputs": [],
   "source": [
    "def add_time(df):\n",
    "    \"\"\"Add Time Column\"\"\"\n",
    "    min_year = np.min(df[\"Y\"])\n",
    "    df[\"T\"] = (df[\"Y\"] - min_year) * 12 + df[\"M\"]\n",
    "    return df\n",
    "\n",
    "\n",
    "def add_season(df):\n",
    "    \"\"\"adds Season Column (0 for months 1,2,3 and 1 for months 10,11,12)\"\"\"\n",
    "    df[\"season\"] = ((df[\"M\"] - 1) // 4).astype(bool).astype(int)\n",
    "    return df\n",
    "\n",
    "\n",
    "df = add_season(add_time(df))\n",
    "df.to_csv(\"data/df.csv\", index=False)"
   ]
  },
  {
   "cell_type": "markdown",
   "metadata": {},
   "source": [
    "### ppt has data for only months 1,2,3,10,11,12. While sst has all months.\n"
   ]
  },
  {
   "cell_type": "markdown",
   "metadata": {},
   "source": [
    "## 4. Add Clusters\n"
   ]
  },
  {
   "cell_type": "code",
   "execution_count": 94,
   "metadata": {},
   "outputs": [],
   "source": [
    "clusters = np.load(\"clusters.npy\")"
   ]
  },
  {
   "cell_type": "code",
   "execution_count": 95,
   "metadata": {},
   "outputs": [
    {
     "data": {
      "image/png": "[encoded data removed]",
      "text/plain": [
       "<Figure size 1200x800 with 2 Axes>"
      ]
     },
     "metadata": {},
     "output_type": "display_data"
    },
    {
     "name": "stdout",
     "output_type": "stream",
     "text": [
      "np.unique(clusters):  [ 0.  1.  2.  3.  4.  5.  6.  7.  8. nan]\n"
     ]
    }
   ],
   "source": [
    "plt.figure(figsize=(12, 8))\n",
    "xx, yy = np.meshgrid(lon, lat)\n",
    "plt.contourf(xx, yy, clusters, levels=10, cmap=\"tab20\")\n",
    "plt.colorbar()\n",
    "plt.show()\n",
    "print(\"np.unique(clusters): \", np.unique(clusters))"
   ]
  },
  {
   "cell_type": "code",
   "execution_count": 96,
   "metadata": {},
   "outputs": [
    {
     "name": "stderr",
     "output_type": "stream",
     "text": [
      "/var/folders/j3/ll6yjvb96yjb1gn7mk4x45zh0000gn/T/ipykernel_45155/790362116.py:17: RuntimeWarning: invalid value encountered in divide\n",
      "  cluster_average = np.sum(masked_image) / cluster_size\n"
     ]
    },
    {
     "data": {
      "text/plain": [
       "array([[0., 0., 0., ..., 0., 0., 0.],\n",
       "       [0., 0., 0., ..., 0., 0., 0.],\n",
       "       [0., 0., 0., ..., 0., 0., 0.],\n",
       "       ...,\n",
       "       [0., 0., 0., ..., 0., 0., 0.],\n",
       "       [0., 0., 0., ..., 0., 0., 0.],\n",
       "       [0., 0., 0., ..., 0., 0., 0.]])"
      ]
     },
     "execution_count": 96,
     "metadata": {},
     "output_type": "execute_result"
    }
   ],
   "source": [
    "def average_clusters(image, cluster_array, return_image=True):\n",
    "    \"\"\"Average the values of each cluster in the image\"\"\"\n",
    "    unique_clusters = np.unique(cluster_array)  # Find unique cluster labels\n",
    "\n",
    "    if return_image:\n",
    "        # Initialize an array to store the average values\n",
    "        averaged_image = np.zeros_like(image, dtype=float)\n",
    "    else:\n",
    "        cluster_averages = []\n",
    "\n",
    "    for cluster_label in unique_clusters:\n",
    "        # Mask the original image with the current cluster label\n",
    "        masked_image = np.where(cluster_array == cluster_label, image, 0)\n",
    "\n",
    "        # Calculate the average value for the current cluster\n",
    "        cluster_size = np.sum(cluster_array == cluster_label)\n",
    "        cluster_average = np.sum(masked_image) / cluster_size\n",
    "\n",
    "        if return_image:\n",
    "            # Replace pixels in the averaged image with the cluster average\n",
    "            averaged_image += np.where(\n",
    "                cluster_array == cluster_label, cluster_average, 0\n",
    "            )\n",
    "        else:\n",
    "            cluster_averages.append(cluster_average)\n",
    "\n",
    "    return averaged_image if return_image else np.array(cluster_averages)\n",
    "\n",
    "\n",
    "avg_clusters = average_clusters(df.iloc[0].ppt, clusters)\n",
    "avg_clusters"
   ]
  },
  {
   "cell_type": "code",
   "execution_count": 97,
   "metadata": {},
   "outputs": [
    {
     "data": {
      "image/png": "[encoded data removed]",
      "text/plain": [
       "<Figure size 640x480 with 2 Axes>"
      ]
     },
     "metadata": {},
     "output_type": "display_data"
    },
    {
     "data": {
      "image/png": "[encoded data removed]",
      "text/plain": [
       "<Figure size 640x480 with 2 Axes>"
      ]
     },
     "metadata": {},
     "output_type": "display_data"
    }
   ],
   "source": [
    "plt.contourf(xx, yy, avg_clusters)\n",
    "plt.colorbar()\n",
    "show_states()\n",
    "plt.title(\"Avg PPT for each Cluster for Jan 1895\")\n",
    "plt.show()\n",
    "\n",
    "xx, yy = np.meshgrid(lon, lat)\n",
    "plt.contourf(xx, yy, clusters, levels=10, cmap=\"tab20\")\n",
    "plt.colorbar()\n",
    "plt.title(\"Original Clusters\")\n",
    "plt.show()"
   ]
  },
  {
   "cell_type": "code",
   "execution_count": 98,
   "metadata": {},
   "outputs": [
    {
     "name": "stderr",
     "output_type": "stream",
     "text": [
      "/var/folders/j3/ll6yjvb96yjb1gn7mk4x45zh0000gn/T/ipykernel_45155/790362116.py:17: RuntimeWarning: invalid value encountered in divide\n",
      "  cluster_average = np.sum(masked_image) / cluster_size\n",
      "/var/folders/j3/ll6yjvb96yjb1gn7mk4x45zh0000gn/T/ipykernel_45155/790362116.py:17: RuntimeWarning: invalid value encountered in divide\n",
      "  cluster_average = np.sum(masked_image) / cluster_size\n"
     ]
    }
   ],
   "source": [
    "df[\"ppt_cluster\"] = df[\"ppt\"].apply(lambda x: average_clusters(x, clusters))\n",
    "df[\"ppt_cluster_vector\"] = df[\"ppt\"].apply(\n",
    "    lambda x: average_clusters(x, clusters, return_image=False)[:-1]\n",
    ")"
   ]
  },
  {
   "cell_type": "markdown",
   "metadata": {},
   "source": [
    "## 5. Add Quantiles\n"
   ]
  },
  {
   "cell_type": "code",
   "execution_count": 99,
   "metadata": {},
   "outputs": [
    {
     "data": {
      "text/plain": [
       "array([ 9.5338221 , 12.17312131,  9.24412442,  7.47316639, 94.40965887,\n",
       "        8.27551748, 25.58297759, 13.8765325 , 42.52929087])"
      ]
     },
     "execution_count": 99,
     "metadata": {},
     "output_type": "execute_result"
    }
   ],
   "source": [
    "def get_quantiles(df, cluster=True):\n",
    "\n",
    "    vector = df.ppt_cluster_vector if cluster else df.ppt\n",
    "\n",
    "    ppt_vector = np.stack(vector.apply(lambda x: x.reshape(-1))).T\n",
    "    q1 = np.quantile(ppt_vector, 0.25, axis=1, keepdims=True).flatten()\n",
    "    q2 = np.quantile(ppt_vector, 0.5, axis=1, keepdims=True).flatten()\n",
    "    q3 = np.quantile(ppt_vector, 0.75, axis=1, keepdims=True).flatten()\n",
    "    return q1, q2, q3\n",
    "\n",
    "\n",
    "q1, q2, q3 = get_quantiles(df)\n",
    "q1"
   ]
  },
  {
   "cell_type": "code",
   "execution_count": 100,
   "metadata": {},
   "outputs": [],
   "source": [
    "def get_quantized(x, q1, q2, q3):\n",
    "    output = np.zeros_like(x)\n",
    "    output[x <= q1] = 1\n",
    "    q2_arr = np.array(x > q1) * np.array(x <= q2)\n",
    "    q3_arr = np.array(x > q2) * np.array(x <= q3)\n",
    "    output[q2_arr] = 2\n",
    "    output[q3_arr] = 3\n",
    "    output[x > q3] = 4\n",
    "    return output"
   ]
  },
  {
   "cell_type": "code",
   "execution_count": 101,
   "metadata": {},
   "outputs": [
    {
     "data": {
      "text/html": [
       "<div>\n",
       "<style scoped>\n",
       "    .dataframe tbody tr th:only-of-type {\n",
       "        vertical-align: middle;\n",
       "    }\n",
       "\n",
       "    .dataframe tbody tr th {\n",
       "        vertical-align: top;\n",
       "    }\n",
       "\n",
       "    .dataframe thead th {\n",
       "        text-align: right;\n",
       "    }\n",
       "</style>\n",
       "<table border=\"1\" class=\"dataframe\">\n",
       "  <thead>\n",
       "    <tr style=\"text-align: right;\">\n",
       "      <th></th>\n",
       "      <th>T</th>\n",
       "      <th>M</th>\n",
       "      <th>ppt_cluster_vector_quantized</th>\n",
       "    </tr>\n",
       "  </thead>\n",
       "  <tbody>\n",
       "    <tr>\n",
       "      <th>0</th>\n",
       "      <td>1</td>\n",
       "      <td>1</td>\n",
       "      <td>[4.0, 4.0, 3.0, 3.0, 4.0, 3.0, 4.0, 4.0, 4.0]</td>\n",
       "    </tr>\n",
       "    <tr>\n",
       "      <th>1</th>\n",
       "      <td>2</td>\n",
       "      <td>2</td>\n",
       "      <td>[3.0, 3.0, 3.0, 4.0, 1.0, 4.0, 2.0, 3.0, 2.0]</td>\n",
       "    </tr>\n",
       "    <tr>\n",
       "      <th>2</th>\n",
       "      <td>3</td>\n",
       "      <td>3</td>\n",
       "      <td>[2.0, 1.0, 3.0, 1.0, 1.0, 2.0, 3.0, 3.0, 2.0]</td>\n",
       "    </tr>\n",
       "    <tr>\n",
       "      <th>3</th>\n",
       "      <td>10</td>\n",
       "      <td>10</td>\n",
       "      <td>[1.0, 3.0, 1.0, 4.0, 1.0, 3.0, 1.0, 1.0, 1.0]</td>\n",
       "    </tr>\n",
       "    <tr>\n",
       "      <th>4</th>\n",
       "      <td>11</td>\n",
       "      <td>11</td>\n",
       "      <td>[4.0, 4.0, 4.0, 4.0, 2.0, 3.0, 3.0, 2.0, 1.0]</td>\n",
       "    </tr>\n",
       "    <tr>\n",
       "      <th>...</th>\n",
       "      <td>...</td>\n",
       "      <td>...</td>\n",
       "      <td>...</td>\n",
       "    </tr>\n",
       "    <tr>\n",
       "      <th>727</th>\n",
       "      <td>1454</td>\n",
       "      <td>2</td>\n",
       "      <td>[1.0, 1.0, 2.0, 2.0, 2.0, 3.0, 1.0, 2.0, 1.0]</td>\n",
       "    </tr>\n",
       "    <tr>\n",
       "      <th>728</th>\n",
       "      <td>1455</td>\n",
       "      <td>3</td>\n",
       "      <td>[3.0, 1.0, 4.0, 2.0, 4.0, 4.0, 4.0, 3.0, 4.0]</td>\n",
       "    </tr>\n",
       "    <tr>\n",
       "      <th>729</th>\n",
       "      <td>1462</td>\n",
       "      <td>10</td>\n",
       "      <td>[4.0, 1.0, 4.0, 2.0, 4.0, 2.0, 4.0, 2.0, 4.0]</td>\n",
       "    </tr>\n",
       "    <tr>\n",
       "      <th>730</th>\n",
       "      <td>1463</td>\n",
       "      <td>11</td>\n",
       "      <td>[2.0, 3.0, 3.0, 4.0, 3.0, 2.0, 2.0, 2.0, 2.0]</td>\n",
       "    </tr>\n",
       "    <tr>\n",
       "      <th>731</th>\n",
       "      <td>1464</td>\n",
       "      <td>12</td>\n",
       "      <td>[4.0, 4.0, 4.0, 3.0, 3.0, 3.0, 4.0, 4.0, 4.0]</td>\n",
       "    </tr>\n",
       "  </tbody>\n",
       "</table>\n",
       "<p>732 rows × 3 columns</p>\n",
       "</div>"
      ],
      "text/plain": [
       "        T   M                   ppt_cluster_vector_quantized\n",
       "0       1   1  [4.0, 4.0, 3.0, 3.0, 4.0, 3.0, 4.0, 4.0, 4.0]\n",
       "1       2   2  [3.0, 3.0, 3.0, 4.0, 1.0, 4.0, 2.0, 3.0, 2.0]\n",
       "2       3   3  [2.0, 1.0, 3.0, 1.0, 1.0, 2.0, 3.0, 3.0, 2.0]\n",
       "3      10  10  [1.0, 3.0, 1.0, 4.0, 1.0, 3.0, 1.0, 1.0, 1.0]\n",
       "4      11  11  [4.0, 4.0, 4.0, 4.0, 2.0, 3.0, 3.0, 2.0, 1.0]\n",
       "..    ...  ..                                            ...\n",
       "727  1454   2  [1.0, 1.0, 2.0, 2.0, 2.0, 3.0, 1.0, 2.0, 1.0]\n",
       "728  1455   3  [3.0, 1.0, 4.0, 2.0, 4.0, 4.0, 4.0, 3.0, 4.0]\n",
       "729  1462  10  [4.0, 1.0, 4.0, 2.0, 4.0, 2.0, 4.0, 2.0, 4.0]\n",
       "730  1463  11  [2.0, 3.0, 3.0, 4.0, 3.0, 2.0, 2.0, 2.0, 2.0]\n",
       "731  1464  12  [4.0, 4.0, 4.0, 3.0, 3.0, 3.0, 4.0, 4.0, 4.0]\n",
       "\n",
       "[732 rows x 3 columns]"
      ]
     },
     "execution_count": 101,
     "metadata": {},
     "output_type": "execute_result"
    }
   ],
   "source": [
    "df[\"ppt_cluster_vector_quantized\"] = df[\"ppt_cluster_vector\"].apply(\n",
    "    lambda x: get_quantized(x, q1, q2, q3)\n",
    ")\n",
    "df[[\"T\", \"M\", \"ppt_cluster_vector_quantized\"]]"
   ]
  },
  {
   "cell_type": "markdown",
   "metadata": {},
   "source": [
    "## Organizing Data into y_labels and x_input\n",
    "\n",
    "Want to create a dataframe of sea surface temperature input for each cluster precipitation estimation (1, 2, 3, or 4).\n",
    "The input data should be 24 months worth of sea surface temperature data. This data is stored in a quadruple vector.\n",
    "For each a ppt_cluster_vector quantity, grab the last 24 months of \"sst\" quadruple vector data information.\n",
    "to test.\n"
   ]
  },
  {
   "cell_type": "markdown",
   "metadata": {},
   "source": [
    "### Organizing Y Labels\n"
   ]
  },
  {
   "cell_type": "code",
   "execution_count": 102,
   "metadata": {},
   "outputs": [
    {
     "data": {
      "text/html": [
       "<div>\n",
       "<style scoped>\n",
       "    .dataframe tbody tr th:only-of-type {\n",
       "        vertical-align: middle;\n",
       "    }\n",
       "\n",
       "    .dataframe tbody tr th {\n",
       "        vertical-align: top;\n",
       "    }\n",
       "\n",
       "    .dataframe thead th {\n",
       "        text-align: right;\n",
       "    }\n",
       "</style>\n",
       "<table border=\"1\" class=\"dataframe\">\n",
       "  <thead>\n",
       "    <tr style=\"text-align: right;\">\n",
       "      <th></th>\n",
       "      <th>ppt_cluster_vector_quantized</th>\n",
       "    </tr>\n",
       "    <tr>\n",
       "      <th>date</th>\n",
       "      <th></th>\n",
       "    </tr>\n",
       "  </thead>\n",
       "  <tbody>\n",
       "    <tr>\n",
       "      <th>1895-01-01</th>\n",
       "      <td>[4.0, 4.0, 3.0, 3.0, 4.0, 3.0, 4.0, 4.0, 4.0]</td>\n",
       "    </tr>\n",
       "    <tr>\n",
       "      <th>1895-02-01</th>\n",
       "      <td>[3.0, 3.0, 3.0, 4.0, 1.0, 4.0, 2.0, 3.0, 2.0]</td>\n",
       "    </tr>\n",
       "    <tr>\n",
       "      <th>1895-03-01</th>\n",
       "      <td>[2.0, 1.0, 3.0, 1.0, 1.0, 2.0, 3.0, 3.0, 2.0]</td>\n",
       "    </tr>\n",
       "    <tr>\n",
       "      <th>1895-10-01</th>\n",
       "      <td>[1.0, 3.0, 1.0, 4.0, 1.0, 3.0, 1.0, 1.0, 1.0]</td>\n",
       "    </tr>\n",
       "    <tr>\n",
       "      <th>1895-11-01</th>\n",
       "      <td>[4.0, 4.0, 4.0, 4.0, 2.0, 3.0, 3.0, 2.0, 1.0]</td>\n",
       "    </tr>\n",
       "    <tr>\n",
       "      <th>...</th>\n",
       "      <td>...</td>\n",
       "    </tr>\n",
       "    <tr>\n",
       "      <th>2016-02-01</th>\n",
       "      <td>[1.0, 1.0, 2.0, 2.0, 2.0, 3.0, 1.0, 2.0, 1.0]</td>\n",
       "    </tr>\n",
       "    <tr>\n",
       "      <th>2016-03-01</th>\n",
       "      <td>[3.0, 1.0, 4.0, 2.0, 4.0, 4.0, 4.0, 3.0, 4.0]</td>\n",
       "    </tr>\n",
       "    <tr>\n",
       "      <th>2016-10-01</th>\n",
       "      <td>[4.0, 1.0, 4.0, 2.0, 4.0, 2.0, 4.0, 2.0, 4.0]</td>\n",
       "    </tr>\n",
       "    <tr>\n",
       "      <th>2016-11-01</th>\n",
       "      <td>[2.0, 3.0, 3.0, 4.0, 3.0, 2.0, 2.0, 2.0, 2.0]</td>\n",
       "    </tr>\n",
       "    <tr>\n",
       "      <th>2016-12-01</th>\n",
       "      <td>[4.0, 4.0, 4.0, 3.0, 3.0, 3.0, 4.0, 4.0, 4.0]</td>\n",
       "    </tr>\n",
       "  </tbody>\n",
       "</table>\n",
       "<p>732 rows × 1 columns</p>\n",
       "</div>"
      ],
      "text/plain": [
       "                             ppt_cluster_vector_quantized\n",
       "date                                                     \n",
       "1895-01-01  [4.0, 4.0, 3.0, 3.0, 4.0, 3.0, 4.0, 4.0, 4.0]\n",
       "1895-02-01  [3.0, 3.0, 3.0, 4.0, 1.0, 4.0, 2.0, 3.0, 2.0]\n",
       "1895-03-01  [2.0, 1.0, 3.0, 1.0, 1.0, 2.0, 3.0, 3.0, 2.0]\n",
       "1895-10-01  [1.0, 3.0, 1.0, 4.0, 1.0, 3.0, 1.0, 1.0, 1.0]\n",
       "1895-11-01  [4.0, 4.0, 4.0, 4.0, 2.0, 3.0, 3.0, 2.0, 1.0]\n",
       "...                                                   ...\n",
       "2016-02-01  [1.0, 1.0, 2.0, 2.0, 2.0, 3.0, 1.0, 2.0, 1.0]\n",
       "2016-03-01  [3.0, 1.0, 4.0, 2.0, 4.0, 4.0, 4.0, 3.0, 4.0]\n",
       "2016-10-01  [4.0, 1.0, 4.0, 2.0, 4.0, 2.0, 4.0, 2.0, 4.0]\n",
       "2016-11-01  [2.0, 3.0, 3.0, 4.0, 3.0, 2.0, 2.0, 2.0, 2.0]\n",
       "2016-12-01  [4.0, 4.0, 4.0, 3.0, 3.0, 3.0, 4.0, 4.0, 4.0]\n",
       "\n",
       "[732 rows x 1 columns]"
      ]
     },
     "execution_count": 102,
     "metadata": {},
     "output_type": "execute_result"
    }
   ],
   "source": [
    "y_labels = df.loc[:,[\"Y\", \"M\", \"ppt_cluster_vector_quantized\"]]\n",
    "y_labels = y_labels.rename(columns={\"M\": \"month\", \"Y\": \"year\"})\n",
    "y_labels[\"date\"] = pd.to_datetime(y_labels[[\"month\",\"year\"]].assign(day=1))\n",
    "y_labels[\"date\"] = y_labels['date']\n",
    "\n",
    "y_labels.drop([\"month\"], axis=1, inplace=True)\n",
    "y_labels.drop([\"year\"], axis=1, inplace=True)\n",
    "y_labels.set_index(\"date\", inplace=True)\n",
    "y_labels"
   ]
  },
  {
   "cell_type": "code",
   "execution_count": 103,
   "metadata": {},
   "outputs": [
    {
     "data": {
      "text/html": [
       "<div>\n",
       "<style scoped>\n",
       "    .dataframe tbody tr th:only-of-type {\n",
       "        vertical-align: middle;\n",
       "    }\n",
       "\n",
       "    .dataframe tbody tr th {\n",
       "        vertical-align: top;\n",
       "    }\n",
       "\n",
       "    .dataframe thead th {\n",
       "        text-align: right;\n",
       "    }\n",
       "</style>\n",
       "<table border=\"1\" class=\"dataframe\">\n",
       "  <thead>\n",
       "    <tr style=\"text-align: right;\">\n",
       "      <th></th>\n",
       "      <th>sst</th>\n",
       "    </tr>\n",
       "    <tr>\n",
       "      <th>date</th>\n",
       "      <th></th>\n",
       "    </tr>\n",
       "  </thead>\n",
       "  <tbody>\n",
       "    <tr>\n",
       "      <th>1880-01-01</th>\n",
       "      <td>[[[[nan nan nan nan nan nan nan nan nan nan na...</td>\n",
       "    </tr>\n",
       "    <tr>\n",
       "      <th>1880-02-01</th>\n",
       "      <td>[[[[nan nan nan nan nan nan nan nan nan nan na...</td>\n",
       "    </tr>\n",
       "    <tr>\n",
       "      <th>1880-03-01</th>\n",
       "      <td>[[[[nan nan nan nan nan nan nan nan nan nan na...</td>\n",
       "    </tr>\n",
       "    <tr>\n",
       "      <th>1880-04-01</th>\n",
       "      <td>[[[[nan nan nan nan nan nan nan nan nan nan na...</td>\n",
       "    </tr>\n",
       "    <tr>\n",
       "      <th>1880-05-01</th>\n",
       "      <td>[[[[nan nan nan nan nan nan nan nan nan nan na...</td>\n",
       "    </tr>\n",
       "    <tr>\n",
       "      <th>...</th>\n",
       "      <td>...</td>\n",
       "    </tr>\n",
       "    <tr>\n",
       "      <th>2016-08-01</th>\n",
       "      <td>[[[[nan nan nan nan nan nan nan nan nan nan na...</td>\n",
       "    </tr>\n",
       "    <tr>\n",
       "      <th>2016-09-01</th>\n",
       "      <td>[[[[nan nan nan nan nan nan nan nan nan nan na...</td>\n",
       "    </tr>\n",
       "    <tr>\n",
       "      <th>2016-10-01</th>\n",
       "      <td>[[[[nan nan nan nan nan nan nan nan nan nan na...</td>\n",
       "    </tr>\n",
       "    <tr>\n",
       "      <th>2016-11-01</th>\n",
       "      <td>[[[[nan nan nan nan nan nan nan nan nan nan na...</td>\n",
       "    </tr>\n",
       "    <tr>\n",
       "      <th>2016-12-01</th>\n",
       "      <td>[[[[nan nan nan nan nan nan nan nan nan nan na...</td>\n",
       "    </tr>\n",
       "  </tbody>\n",
       "</table>\n",
       "<p>1644 rows × 1 columns</p>\n",
       "</div>"
      ],
      "text/plain": [
       "                                                          sst\n",
       "date                                                         \n",
       "1880-01-01  [[[[nan nan nan nan nan nan nan nan nan nan na...\n",
       "1880-02-01  [[[[nan nan nan nan nan nan nan nan nan nan na...\n",
       "1880-03-01  [[[[nan nan nan nan nan nan nan nan nan nan na...\n",
       "1880-04-01  [[[[nan nan nan nan nan nan nan nan nan nan na...\n",
       "1880-05-01  [[[[nan nan nan nan nan nan nan nan nan nan na...\n",
       "...                                                       ...\n",
       "2016-08-01  [[[[nan nan nan nan nan nan nan nan nan nan na...\n",
       "2016-09-01  [[[[nan nan nan nan nan nan nan nan nan nan na...\n",
       "2016-10-01  [[[[nan nan nan nan nan nan nan nan nan nan na...\n",
       "2016-11-01  [[[[nan nan nan nan nan nan nan nan nan nan na...\n",
       "2016-12-01  [[[[nan nan nan nan nan nan nan nan nan nan na...\n",
       "\n",
       "[1644 rows x 1 columns]"
      ]
     },
     "execution_count": 103,
     "metadata": {},
     "output_type": "execute_result"
    }
   ],
   "source": [
    "sst_condensed = sst_df.loc[:,[\"Y\", \"M\", \"sst\"]]\n",
    "sst_condensed = sst_condensed.rename(columns={\"M\": \"month\", \"Y\": \"year\"})\n",
    "sst_condensed[\"date\"] = pd.to_datetime(sst_condensed[[\"month\",\"year\"]].assign(day=1))\n",
    "sst_condensed[\"date\"] = sst_condensed['date']\n",
    "\n",
    "sst_condensed.drop([\"month\"], axis=1, inplace=True)\n",
    "sst_condensed.drop([\"year\"], axis=1, inplace=True)\n",
    "sst_condensed.set_index(\"date\", inplace=True)\n",
    "sst_condensed"
   ]
  },
  {
   "cell_type": "code",
   "execution_count": 104,
   "metadata": {},
   "outputs": [],
   "source": [
    "x_input_rows = []\n",
    "for date in y_labels.index:\n",
    "    start_date = date - pd.DateOffset(months=23)\n",
    "    end_date = date\n",
    "    \n",
    "    sst_in_range = np.array(sst_condensed.loc[start_date:end_date, 'sst'].tolist()) # shape here is (24, 1, 1, 89, 180)\n",
    "    sst_in_range = sst_in_range.flatten() #1 x 384480\n",
    "    sst_in_range = sst_in_range[~np.isnan(sst_in_range)] # 263712\n",
    "    \n",
    "    x_input_rows.append({'start date': start_date, 'end date' : end_date, 'sst rows': sst_in_range})\n",
    "\n",
    "x_input = pd.DataFrame(x_input_rows)\n",
    "x_input[\"start date\"] = x_input[\"start date\"].dt.to_period('M')\n",
    "x_input[\"end date\"] = x_input[\"end date\"].dt.to_period('M')\n",
    "sst_data = np.array([xi.tolist() for xi in np.array(x_input[:][\"sst rows\"])])"
   ]
  },
  {
   "cell_type": "code",
   "execution_count": 105,
   "metadata": {},
   "outputs": [],
   "source": [
    "ppt_data = np.array(y_labels[\"ppt_cluster_vector_quantized\"])\n",
    "ppt_cluster1 = np.array([x[0] for x in ppt_data])\n",
    "ppt_cluster2 = np.array([x[1] for x in ppt_data])\n",
    "ppt_cluster3 = np.array([x[2] for x in ppt_data])\n",
    "ppt_cluster4 = np.array([x[3] for x in ppt_data])\n",
    "ppt_cluster5 = np.array([x[4] for x in ppt_data])\n",
    "ppt_cluster6 = np.array([x[5] for x in ppt_data])\n",
    "ppt_cluster7 = np.array([x[6] for x in ppt_data])\n",
    "ppt_cluster8 = np.array([x[7] for x in ppt_data])\n",
    "ppt_cluster9 = np.array([x[8] for x in ppt_data])"
   ]
  },
  {
   "cell_type": "markdown",
   "metadata": {},
   "source": [
    "## Training a Random Forest\n",
    "\n",
    "We now have our nine label clusters and our input rows as well (which contain the flatten sea surface temperature data across the globe, excluding land coordinates). We'd like to train a random forest model on these as the first iteration of trying to fit a model.\n"
   ]
  },
  {
   "cell_type": "code",
   "execution_count": 106,
   "metadata": {},
   "outputs": [
    {
     "name": "stdout",
     "output_type": "stream",
     "text": [
      "263712\n",
      "(658,)\n",
      "Accuracy:  0.44594594594594594\n"
     ]
    }
   ],
   "source": [
    "X_train, X_test, y_train, y_test = train_test_split(sst_data, ppt_cluster9, test_size=0.1, random_state=4)\n",
    "\n",
    "rf = RandomForestClassifier(max_depth=1, min_samples_leaf=100, n_estimators=25) # since there are only 4 possible outputs, we use a Classifier\n",
    "\n",
    "rf.fit(X_train, y_train)\n",
    "print(X_train.shape[1])\n",
    "print(y_train.shape)\n",
    "y_pred = rf.predict(X_test)\n",
    "\n",
    "accuracy = accuracy_score(y_test, y_pred)\n",
    "print(\"Accuracy: \", accuracy)"
   ]
  },
  {
   "cell_type": "markdown",
   "metadata": {},
   "source": [
    "## Testing Hyperparameters\n",
    "\n",
    "Use GridSearchCV library to test different values for different parameters\n"
   ]
  },
  {
   "cell_type": "code",
   "execution_count": 107,
   "metadata": {},
   "outputs": [],
   "source": [
    "# params = {\n",
    "#     'max_depth': [1,2,3,5,10,20, 50, 100, 150, 200, 500, None],\n",
    "#     'min_samples_leaf': [1, 5, 10, 20, 50, 100, 200, 500],\n",
    "#     'n_estimators': [10,25,30,50,100,200]\n",
    "# }\n",
    "\n",
    "# # Instantiate the grid search model\n",
    "# grid_search = GridSearchCV(estimator=rf,\n",
    "#                            param_grid=params,\n",
    "#                            cv = 4,\n",
    "#                            n_jobs=-1, verbose=1, scoring=\"accuracy\")\n",
    "\n",
    "\n",
    "\n",
    "# grid_search.fit(list(X_train), y_train)"
   ]
  },
  {
   "cell_type": "code",
   "execution_count": 108,
   "metadata": {},
   "outputs": [],
   "source": [
    "# best_score = grid_search.best\n",
    "# best_esty = grid_search.best_estimator_\n",
    "# print(f\"best accuracy from tuning test: {best_score}\")\n",
    "# print(f\"best estimators to use from tuning: {best_esty}\")_score_"
   ]
  },
  {
   "cell_type": "markdown",
   "metadata": {},
   "source": [
    "## Trying Neural Network\n",
    "\n",
    "Creating and training a logistic regression model\n"
   ]
  },
  {
   "cell_type": "markdown",
   "metadata": {},
   "source": [
    "#### Model\n"
   ]
  },
  {
   "cell_type": "code",
   "execution_count": 109,
   "metadata": {},
   "outputs": [],
   "source": [
    "class Dropout(nn.Module):\n",
    "    def __init__(self, rate=0.05):\n",
    "        # Rate specifies the dropout rate (r)\n",
    "        super().__init__()\n",
    "        self.rate = rate\n",
    "\n",
    "    def forward(self, x):\n",
    "        if self.training:\n",
    "            mask = torch.rand(x.shape) > self.rate\n",
    "            return torch.mul(x, mask.float())\n",
    "        else:\n",
    "            return (1 - self.rate) * x\n",
    "\n",
    "class LinearKaiming(nn.Module):\n",
    "    def __init__(self, in_dimensions, out_dimensions):\n",
    "        super().__init__()\n",
    "        root_d = np.sqrt(in_dimensions)\n",
    "        self.weights = nn.Parameter(torch.randn(in_dimensions, out_dimensions) / root_d)\n",
    "        self.bias = nn.Parameter(torch.zeros(out_dimensions))\n",
    "\n",
    "    def forward(self, x):\n",
    "        return torch.matmul(x, self.weights) + self.bias\n",
    "\n",
    "class RainPrediction(nn.Module):\n",
    "    def __init__(self, num_regions, num_classes):\n",
    "        super().__init__()\n",
    "        self.model = nn.Sequential(\n",
    "            Dropout(),\n",
    "            LinearKaiming(num_regions, 20),\n",
    "            nn.ReLU(),\n",
    "            Dropout(),\n",
    "            LinearKaiming(20, 20),\n",
    "            nn.ReLU(),\n",
    "            Dropout(),\n",
    "            LinearKaiming(20, 20),\n",
    "            nn.ReLU(),\n",
    "            Dropout(),\n",
    "            LinearKaiming(20, 20),\n",
    "            nn.ReLU(),\n",
    "            Dropout(),\n",
    "            LinearKaiming(20, num_classes),\n",
    "        )\n",
    "\n",
    "    def forward(self, x):\n",
    "        return self.model(x)\n",
    "    "
   ]
  },
  {
   "cell_type": "markdown",
   "metadata": {},
   "source": [
    "#### Training\n"
   ]
  },
  {
   "cell_type": "code",
   "execution_count": 116,
   "metadata": {},
   "outputs": [
    {
     "name": "stderr",
     "output_type": "stream",
     "text": [
      "/var/folders/j3/ll6yjvb96yjb1gn7mk4x45zh0000gn/T/ipykernel_45155/4068764973.py:25: UserWarning: To copy construct from a tensor, it is recommended to use sourceTensor.clone().detach() or sourceTensor.clone().detach().requires_grad_(True), rather than torch.tensor(sourceTensor).\n",
      "  X_train, X_test = torch.tensor(X_train, dtype=torch.long),torch.tensor(X_test, dtype=torch.long)\n",
      "/var/folders/j3/ll6yjvb96yjb1gn7mk4x45zh0000gn/T/ipykernel_45155/4068764973.py:26: UserWarning: To copy construct from a tensor, it is recommended to use sourceTensor.clone().detach() or sourceTensor.clone().detach().requires_grad_(True), rather than torch.tensor(sourceTensor).\n",
      "  y_train, y_test = torch.tensor(y_train, dtype=torch.long),torch.tensor(y_test, dtype=torch.long)\n",
      "  9%|▊         | 437/5000 [06:07<1:07:41,  1.12it/s]"
     ]
    }
   ],
   "source": [
    "def gradient_descent(model, loss_func, x, y, xvalid, yvalid, lr=0.1, steps=5000):\n",
    "    optimizer = optim.SGD(model.parameters(), lr)\n",
    "\n",
    "    losses = []\n",
    "    valid_losses = []\n",
    "    for _ in tqdm(range(steps)):\n",
    "        model.train()\n",
    "        loss = loss_func(model(x), y)\n",
    "        loss.backward()\n",
    "        optimizer.step()\n",
    "        optimizer.zero_grad()\n",
    "\n",
    "        model.eval()\n",
    "        valid_loss = loss_func(model(xvalid), yvalid)\n",
    "        losses.append(loss.detach().numpy())\n",
    "        valid_losses.append(valid_loss.detach().numpy())\n",
    "\n",
    "    print(f\"Final training loss: {losses[-1]}\")\n",
    "\n",
    "    return losses, valid_losses\n",
    "\n",
    "lr = 0.001\n",
    "loss_func = nn.CrossEntropyLoss()\n",
    "model = RainPrediction(X_train.shape[1], 5)\n",
    "X_train, X_test = torch.tensor(X_train, dtype=torch.long),torch.tensor(X_test, dtype=torch.long)\n",
    "y_train, y_test = torch.tensor(y_train, dtype=torch.long),torch.tensor(y_test, dtype=torch.long)\n",
    "\n",
    "losses, valid_losses = gradient_descent(\n",
    "    model, loss_func, X_train, y_train, X_test, y_test, lr=lr, steps=5000\n",
    ")"
   ]
  },
  {
   "cell_type": "code",
   "execution_count": null,
   "metadata": {},
   "outputs": [],
   "source": []
  }
 ],
 "metadata": {
  "kernelspec": {
   "display_name": "NN",
   "language": "python",
   "name": "python3"
  },
  "language_info": {
   "codemirror_mode": {
    "name": "ipython",
    "version": 3
   },
   "file_extension": ".py",
   "mimetype": "text/x-python",
   "name": "python",
   "nbconvert_exporter": "python",
   "pygments_lexer": "ipython3",
   "version": "3.11.5"
  }
 },
 "nbformat": 4,
 "nbformat_minor": 2
}
